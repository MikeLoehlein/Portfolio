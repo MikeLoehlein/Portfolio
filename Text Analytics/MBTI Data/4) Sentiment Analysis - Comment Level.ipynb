{
 "cells": [
  {
   "cell_type": "code",
   "execution_count": 1,
   "metadata": {},
   "outputs": [
    {
     "data": {
      "text/plain": [
       "'\\nThis file takes the comment level cleaned data from 1) Data Prep and preforms unsupervised sentiment analysis on it. \\nThe code uses three seperate lexicon based scoring methods and compares the results across the users. \\n\\nThe code does the following:\\n - Import libraries\\n - Defines functions\\n - Subsets and formats the data. This process uses the cleaned and processed data, not the raw comments.\\n - Scores the data\\n - Compares the scored sentiment accoring to 1) overal and 2) MBTI type.\\n'"
      ]
     },
     "execution_count": 1,
     "metadata": {},
     "output_type": "execute_result"
    }
   ],
   "source": [
    "'''4) Sentiment Analysis'''\n",
    "\n",
    "'''\n",
    "This file takes the comment level cleaned data from 1) Data Prep and preforms unsupervised sentiment analysis on it. \n",
    "The code uses three seperate lexicon based scoring methods and compares the results across the users. \n",
    "\n",
    "The code does the following:\n",
    " - Import libraries\n",
    " - Defines functions\n",
    " - Subsets and formats the data. This process uses the cleaned and processed data, not the raw comments.\n",
    " - Scores the data\n",
    " - Compares the scored sentiment accoring to 1) overal and 2) MBTI type.\n",
    "'''"
   ]
  },
  {
   "cell_type": "code",
   "execution_count": 2,
   "metadata": {},
   "outputs": [
    {
     "name": "stderr",
     "output_type": "stream",
     "text": [
      "C:\\Users\\michael.loehlein\\AppData\\Local\\Continuum\\Anaconda3\\lib\\site-packages\\nltk\\twitter\\__init__.py:20: UserWarning: The twython library has not been installed. Some functionality from the twitter package will not be available.\n",
      "  warnings.warn(\"The twython library has not been installed. \"\n"
     ]
    }
   ],
   "source": [
    "#Import Libaries and Modules\n",
    "import pandas as pd\n",
    "import numpy as np\n",
    "import pickle\n",
    "import nltk\n",
    "\n",
    "from afinn import Afinn\n",
    "afn = Afinn(emoticons=False) \n",
    "\n",
    "from nltk.corpus import sentiwordnet as swn\n",
    "from nltk.sentiment.vader import SentimentIntensityAnalyzer\n",
    "\n",
    "from normalization import *"
   ]
  },
  {
   "cell_type": "code",
   "execution_count": 9,
   "metadata": {},
   "outputs": [],
   "source": [
    "#Define Functions\n",
    "def analyze_sentiment_sentiwordnet_lexicon(review):\n",
    "    # tokenize and POS tag text tokens\n",
    "    text_tokens = nltk.word_tokenize(review)\n",
    "    tagged_text = nltk.pos_tag(text_tokens)\n",
    "    pos_score = neg_score = token_count = obj_score = 0\n",
    "    # get wordnet synsets based on POS tags\n",
    "    # get sentiment scores if synsets are found\n",
    "    for word, tag in tagged_text:\n",
    "        ss_set = None\n",
    "        if 'NN' in tag and swn.senti_synsets(word, 'n'):\n",
    "            ss_set = list(swn.senti_synsets(word, 'n'))\n",
    "        elif 'VB' in tag and swn.senti_synsets(word, 'v'):\n",
    "            ss_set = list(swn.senti_synsets(word, 'v'))\n",
    "        elif 'JJ' in tag and swn.senti_synsets(word, 'a'):\n",
    "            ss_set = list(swn.senti_synsets(word, 'a'))\n",
    "        elif 'RB' in tag and swn.senti_synsets(word, 'r'):\n",
    "            ss_set = list(swn.senti_synsets(word, 'r'))\n",
    "        # if senti-synset is found        \n",
    "        if ss_set:\n",
    "            ss_set = ss_set[0]\n",
    "            # add scores for all found synsets\n",
    "            pos_score += ss_set.pos_score()\n",
    "            neg_score += ss_set.neg_score()\n",
    "            obj_score += ss_set.obj_score()\n",
    "            token_count += 1\n",
    "    \n",
    "    # aggregate final scores\n",
    "    try:\n",
    "        final_score = pos_score - neg_score\n",
    "        norm_final_score = round(float(final_score) / token_count, 2)\n",
    "        final_sentiment = 'positive' if norm_final_score >= 0 else 'negative'\n",
    "    except:\n",
    "        final_sentiment = 'Not Evaluated'\n",
    "        \n",
    "    return final_sentiment\n",
    "\n",
    "def analyze_sentiment_vader_lexicon(review, \n",
    "                                    threshold=0.1):\n",
    "    # analyze the sentiment for review\n",
    "    analyzer = SentimentIntensityAnalyzer()\n",
    "    scores = analyzer.polarity_scores(review)\n",
    "    # get aggregate scores and final sentiment\n",
    "    agg_score = scores['compound']\n",
    "    final_sentiment = 'positive' if agg_score >= threshold\\\n",
    "                                   else 'negative'\n",
    "   \n",
    "    return final_sentiment\n",
    "\n",
    "def freq(lst):\n",
    "    d = {}\n",
    "    for i in lst:\n",
    "        if d.get(i):\n",
    "            d[i] += 1\n",
    "        else:\n",
    "            d[i] = 1\n",
    "    return d\n"
   ]
  },
  {
   "cell_type": "code",
   "execution_count": 4,
   "metadata": {},
   "outputs": [
    {
     "name": "stdout",
     "output_type": "stream",
     "text": [
      "   user commentnum comment  type  type_enc clean_comment\n",
      "0     0         s1    'url  INFJ         8           url\n",
      "1     0         s2     url  INFJ         8           url\n",
      "\n"
     ]
    }
   ],
   "source": [
    "#Load Data\n",
    "cleaned_mbti_userlvl = pd.read_pickle('cleaned_mbti_cmtlvl.pkl')\n",
    "comments = np.array(cleaned_mbti_userlvl['clean_comment']) #Cast to an array\n",
    "print(cleaned_mbti_userlvl.head(2))\n",
    "print()"
   ]
  },
  {
   "cell_type": "code",
   "execution_count": 5,
   "metadata": {
    "collapsed": true
   },
   "outputs": [],
   "source": [
    "#AFINN Sentiment Analysis Scoring\n",
    "afinn_score = [afn.score(review) for review in comments]\n",
    "\n",
    "afinn_score_final = []\n",
    "\n",
    "for x in afinn_score:\n",
    "    if x > 0:\n",
    "        hold = 'positive'\n",
    "    else:\n",
    "        hold = \"negative\"\n",
    "    afinn_score_final.append(hold)"
   ]
  },
  {
   "cell_type": "code",
   "execution_count": 6,
   "metadata": {
    "collapsed": true
   },
   "outputs": [],
   "source": [
    "#Sentiment Analysis using Vader Lexicon\n",
    "vader_predictions = [analyze_sentiment_vader_lexicon(review, threshold=0.1) for review in comments] "
   ]
  },
  {
   "cell_type": "code",
   "execution_count": 10,
   "metadata": {},
   "outputs": [],
   "source": [
    "#Sentiment Analysis using SentiWord Lexicon\n",
    "sentiwordnet_predictions = [analyze_sentiment_sentiwordnet_lexicon(review) for review in comments]"
   ]
  },
  {
   "cell_type": "code",
   "execution_count": 11,
   "metadata": {},
   "outputs": [
    {
     "name": "stdout",
     "output_type": "stream",
     "text": [
      "afinn_score 421757\n",
      "['negative', 'negative', 'positive', 'negative', 'negative']\n",
      "vader_predictions 421757\n",
      "['negative', 'negative', 'positive', 'negative', 'negative']\n",
      "sentiwordnet_predictions 421757\n",
      "['positive', 'positive', 'positive', 'positive', 'positive']\n"
     ]
    }
   ],
   "source": [
    "#Print Scores for first five\n",
    "print('afinn_score ' + str(len(afinn_score_final)))\n",
    "print(afinn_score_final[:5])\n",
    "\n",
    "print('vader_predictions ' + str(len(vader_predictions)))\n",
    "print(vader_predictions[:5])\n",
    "\n",
    "print('sentiwordnet_predictions ' + str(len(sentiwordnet_predictions)))\n",
    "print(sentiwordnet_predictions[:5])"
   ]
  },
  {
   "cell_type": "code",
   "execution_count": 12,
   "metadata": {},
   "outputs": [
    {
     "name": "stdout",
     "output_type": "stream",
     "text": [
      "AFINN Classification {'negative': 203864, 'positive': 217893}\n",
      "VADER Classification {'negative': 178903, 'positive': 242854}\n",
      "SentiWordNet Classification {'negative': 111267, 'positive': 301930, 'Not Evaluated': 8560}\n"
     ]
    }
   ],
   "source": [
    "#Print Classification Summary\n",
    "print('AFINN Classification ' + str(freq(afinn_score_final)))\n",
    "print('VADER Classification ' + str(freq(vader_predictions)))\n",
    "print('SentiWordNet Classification ' + str(freq(sentiwordnet_predictions)))"
   ]
  },
  {
   "cell_type": "code",
   "execution_count": 13,
   "metadata": {},
   "outputs": [
    {
     "name": "stdout",
     "output_type": "stream",
     "text": [
      "   type     afinn     vader     senti      concur\n",
      "0  INFJ  negative  negative  positive  concurrent\n",
      "1  INFJ  negative  negative  positive  concurrent\n",
      "2  INFJ  positive  positive  positive  concurrent\n",
      "3  INFJ  negative  negative  positive  concurrent\n",
      "4  INFJ  negative  negative  positive  concurrent\n",
      "\n",
      "concurrent    0.793884\n",
      "not           0.206116\n",
      "Name: concur, dtype: float64\n",
      "\n",
      "afinn     concur    \n",
      "negative  concurrent    0.768738\n",
      "          not           0.231262\n",
      "positive  concurrent    0.817410\n",
      "          not           0.182590\n",
      "Name: concur, dtype: float64\n",
      "\n",
      "type  concur    \n",
      "ENFJ  concurrent    0.798449\n",
      "      not           0.201551\n",
      "ENFP  concurrent    0.797087\n",
      "      not           0.202913\n",
      "ENTJ  concurrent    0.790209\n",
      "      not           0.209791\n",
      "ENTP  concurrent    0.788725\n",
      "      not           0.211275\n",
      "ESFJ  concurrent    0.772547\n",
      "      not           0.227453\n",
      "ESFP  concurrent    0.800271\n",
      "      not           0.199729\n",
      "ESTJ  concurrent    0.794363\n",
      "      not           0.205637\n",
      "ESTP  concurrent    0.791407\n",
      "      not           0.208593\n",
      "INFJ  concurrent    0.791544\n",
      "      not           0.208456\n",
      "INFP  concurrent    0.797757\n",
      "      not           0.202243\n",
      "INTJ  concurrent    0.790596\n",
      "      not           0.209404\n",
      "INTP  concurrent    0.794074\n",
      "      not           0.205926\n",
      "ISFJ  concurrent    0.789869\n",
      "      not           0.210131\n",
      "ISFP  concurrent    0.799938\n",
      "      not           0.200062\n",
      "ISTJ  concurrent    0.792604\n",
      "      not           0.207396\n",
      "ISTP  concurrent    0.797192\n",
      "      not           0.202808\n",
      "Name: concur, dtype: float64\n",
      "\n",
      "type  afinn     concur    \n",
      "ENFJ  negative  concurrent    0.744467\n",
      "                not           0.255533\n",
      "      positive  concurrent    0.837317\n",
      "                not           0.162683\n",
      "ENFP  negative  concurrent    0.750625\n",
      "                not           0.249375\n",
      "      positive  concurrent    0.832070\n",
      "                not           0.167930\n",
      "ENTJ  negative  concurrent    0.759393\n",
      "                not           0.240607\n",
      "      positive  concurrent    0.820144\n",
      "                not           0.179856\n",
      "ENTP  negative  concurrent    0.762550\n",
      "                not           0.237450\n",
      "      positive  concurrent    0.815092\n",
      "                not           0.184908\n",
      "ESFJ  negative  concurrent    0.717391\n",
      "                not           0.282609\n",
      "      positive  concurrent    0.810924\n",
      "                not           0.189076\n",
      "ESFP  negative  concurrent    0.774869\n",
      "                not           0.225131\n",
      "      positive  concurrent    0.827554\n",
      "                not           0.172446\n",
      "ESTJ  negative  concurrent    0.771645\n",
      "                not           0.228355\n",
      "      positive  concurrent    0.815524\n",
      "                not           0.184476\n",
      "ESTP  negative  concurrent    0.771183\n",
      "                not           0.228817\n",
      "                                ...   \n",
      "INFJ  positive  concurrent    0.816832\n",
      "                not           0.183168\n",
      "INFP  negative  concurrent    0.776148\n",
      "                not           0.223852\n",
      "      positive  concurrent    0.817165\n",
      "                not           0.182835\n",
      "INTJ  negative  concurrent    0.772688\n",
      "                not           0.227312\n",
      "      positive  concurrent    0.808979\n",
      "                not           0.191021\n",
      "INTP  negative  concurrent    0.779093\n",
      "                not           0.220907\n",
      "      positive  concurrent    0.810273\n",
      "                not           0.189727\n",
      "ISFJ  negative  concurrent    0.753717\n",
      "                not           0.246283\n",
      "      positive  concurrent    0.820159\n",
      "                not           0.179841\n",
      "ISFP  negative  concurrent    0.765830\n",
      "                not           0.234170\n",
      "      positive  concurrent    0.830930\n",
      "                not           0.169070\n",
      "ISTJ  negative  concurrent    0.765385\n",
      "                not           0.234615\n",
      "      positive  concurrent    0.817968\n",
      "                not           0.182032\n",
      "ISTP  negative  concurrent    0.777612\n",
      "                not           0.222388\n",
      "      positive  concurrent    0.819263\n",
      "                not           0.180737\n",
      "Name: concur, Length: 64, dtype: float64\n",
      "\n"
     ]
    }
   ],
   "source": [
    "type = cleaned_mbti_userlvl['type']\n",
    "AFINN = pd.DataFrame(afinn_score_final, columns=['afinn'])\n",
    "VADER = pd.DataFrame(vader_predictions, columns=['vader'])\n",
    "SentiWord = pd.DataFrame(sentiwordnet_predictions, columns=['senti'])\n",
    "\n",
    "Combined = pd.concat([type, AFINN, VADER, SentiWord], axis=1)\n",
    "Combined['concur'] = np.where((Combined['afinn'] >= Combined['vader']) & (Combined['afinn'] <= Combined['senti'])\n",
    "                     , 'concurrent', 'not')\n",
    "\n",
    "\n",
    "print(Combined.head())\n",
    "print()\n",
    "\n",
    "counts = Combined.concur.value_counts(normalize=True)\n",
    "print(counts)\n",
    "print()\n",
    "\n",
    "counts = Combined.groupby('afinn').concur.value_counts(normalize=True)\n",
    "print(counts)\n",
    "print()\n",
    "\n",
    "counts = Combined.groupby('type').concur.value_counts(normalize=True)\n",
    "print(counts)\n",
    "print()\n",
    "\n",
    "counts = Combined.groupby(['type','afinn']).concur.value_counts(normalize=True)\n",
    "print(counts)\n",
    "print()"
   ]
  },
  {
   "cell_type": "code",
   "execution_count": null,
   "metadata": {
    "collapsed": true
   },
   "outputs": [],
   "source": [
    "'''\n",
    "Comments:\n",
    "    - Using the comment level data inplies that overal the comments are at least 50% positive. Depending on the lexicon used \n",
    "    the positive vs negatiev ratio goes from 50% postive to about 75% positive. \n",
    "    \n",
    "    - Across MBTI type, the percent of comment which the three lexicons scored as conccurrent (so all three as positive or \n",
    "    all three as negative is farily stable with around 20% non currence by MBTI and scoring (positive vs negative)).\n",
    "    \n",
    "    - The comments which are concurrent (so all positive or all negative) are likely properly scored. However the non current \n",
    "    comments should be mannually reviewed and classified."
   ]
  },
  {
   "cell_type": "code",
   "execution_count": null,
   "metadata": {
    "collapsed": true
   },
   "outputs": [],
   "source": []
  }
 ],
 "metadata": {
  "anaconda-cloud": {},
  "kernelspec": {
   "display_name": "Python [conda root]",
   "language": "python",
   "name": "conda-root-py"
  },
  "language_info": {
   "codemirror_mode": {
    "name": "ipython",
    "version": 3
   },
   "file_extension": ".py",
   "mimetype": "text/x-python",
   "name": "python",
   "nbconvert_exporter": "python",
   "pygments_lexer": "ipython3",
   "version": "3.5.4"
  }
 },
 "nbformat": 4,
 "nbformat_minor": 2
}
